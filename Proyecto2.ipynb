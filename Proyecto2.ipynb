{
 "cells": [
  {
   "cell_type": "markdown",
   "metadata": {},
   "source": [
    "# PRÁCTICA 2: Clasificador de tweets.\n",
    "# Raúl Barrantes Pampillo\n",
    "Se extraen tweets de 4 cuentas de twitter; 2 con características parecidas, y 2 con características diferentes; se hace el análisis y vectorización y basándose en estas características se construyen clasificadores, los cuales predicen los modelos."
   ]
  },
  {
   "cell_type": "markdown",
   "metadata": {},
   "source": [
    "### Instalación y descarga de librerías\n",
    "\n",
    "Primero se descargan e instalan la serie de librerías necesarias para el funcionamiento del código:"
   ]
  },
  {
   "cell_type": "code",
   "execution_count": null,
   "metadata": {},
   "outputs": [],
   "source": [
    "pip install -U scikit-learn\n",
    "pip install tweepy\n",
    "pip install vaderSentiment"
   ]
  },
  {
   "cell_type": "markdown",
   "metadata": {},
   "source": [
    "## Importación de librerías\n",
    "\n",
    "Se importan las librerías:\n",
    "\n",
    "**tweepy:** Para extracción de tweets.\n",
    "\n",
    "**time:** Para que pueda haber un delay en la extracción de tweets, y que no haya bloqueo de peticiones.\n",
    "\n",
    "**pickle:** Para guardar el dataset en futuras pruebas.\n",
    "\n",
    "**re:** Aplicar reglas regex en el texto.\n",
    "\n",
    "**numpy:** Aplicar manipulación de datos y arrays.\n",
    "\n",
    "**sklearn.feature_extraction.text.TfidfVectorizer:** Para poder hacer analísis del corpus.\n",
    "\n",
    "**sklearn.feature_extraction.text.CountVectorizer:** Para poder hacer la extructura del corpus.\n",
    "\n",
    "**sklearn.pipeline.Pipeline:** Ayuda hacer una extructura para procesar el entrenamiento y testing de los datos.\n",
    "\n",
    "**sklearn.metrics.confusion_matrix, accuracy_score:** Se analiza el análisis de accuracy y la matriz de confusión.\n",
    "\n",
    "**sklearn.model_selection.train_test_split:** Para dividir los datos en training y test.\n",
    "\n",
    "**sklearn.svm.SVC:** La construcción del clasificador.\n",
    "\n",
    "**twokenize:** Funciones de filtrado de entidades HTML y espacios en blanco.\n",
    "\n",
    "**matplotlib.pyplot:** Para mostrar gráficos."
   ]
  },
  {
   "cell_type": "code",
   "execution_count": 10,
   "metadata": {},
   "outputs": [],
   "source": [
    "import tweepy\n",
    "import time\n",
    "import pickle\n",
    "import re\n",
    "import numpy as np\n",
    "from sklearn.feature_extraction.text import TfidfVectorizer\n",
    "from sklearn.feature_extraction.text import TfidfTransformer\n",
    "from sklearn.feature_extraction.text import CountVectorizer\n",
    "from sklearn.metrics import roc_auc_score\n",
    "from sklearn.pipeline import Pipeline\n",
    "from sklearn.metrics import confusion_matrix, accuracy_score\n",
    "from sklearn.model_selection import train_test_split\n",
    "from sklearn.svm import SVC\n",
    "from twokenize import *\n",
    "import matplotlib.pyplot as plt"
   ]
  },
  {
   "cell_type": "markdown",
   "metadata": {},
   "source": [
    "## Librería Tweepy"
   ]
  },
  {
   "cell_type": "markdown",
   "metadata": {},
   "source": [
    "Se hace uso de la librería Tweepy debido a que cuenta con una mejor documentación y una comunidad de desarrolladores más amplia de la que cuenta python-twitter."
   ]
  },
  {
   "cell_type": "markdown",
   "metadata": {},
   "source": [
    "### Autentificación a Twitter"
   ]
  },
  {
   "cell_type": "markdown",
   "metadata": {},
   "source": [
    "Se autentifica a Twitter usando las siguientes credenciales y claves (las cuales son consumer_key, consumer_secret, access_token y access_token_secret), ya habiéndose creada un Twitter App:"
   ]
  },
  {
   "cell_type": "code",
   "execution_count": 38,
   "metadata": {},
   "outputs": [],
   "source": [
    "consumer_key= \"7jYgeinqCZra4uD73eAJ0lXWy\"\n",
    "consumer_secret = \"mJPaxrL0mZmUi5zDcOfYWuq1Omxr6OkgzsIrbDbzCzkgamr7B1\"\n",
    "\n",
    "access_token = \"52953260-VGHHcg9QeueAC6QwLmCsLTJrV7qRu1BqWWnt1dj6w\"\n",
    "\n",
    "access_token_secret = \"312IRtCmfKpZANUMeeuBSxu2I80xhIOLrbtuaz4dRRJvi\"\n",
    "auth = tweepy.OAuthHandler(consumer_key, consumer_secret)\n",
    "auth.set_access_token(access_token, access_token_secret)\n",
    "\n",
    "api = tweepy.API(auth)"
   ]
  },
  {
   "cell_type": "markdown",
   "metadata": {},
   "source": [
    "### Función para evitar exceso de peticiones en Twitter\n",
    "\n",
    "En esta función se maneja el exceso de peticiones y detiene el cursor en caso de que ya no hayan más iteraciones disponibles."
   ]
  },
  {
   "cell_type": "code",
   "execution_count": 40,
   "metadata": {},
   "outputs": [],
   "source": [
    "def limit_handled(cursor):\n",
    "    while True:\n",
    "        try:\n",
    "            yield cursor.next()\n",
    "        except tweepy.RateLimitError:\n",
    "            print (\"esperando\")\n",
    "            time.sleep(15 * 60)\n",
    "        except StopIteration:\n",
    "            break"
   ]
  },
  {
   "cell_type": "markdown",
   "metadata": {},
   "source": [
    "## Aspectos generales del análisis\n",
    "\n",
    "- Se excluyen retweets del análisis.\n",
    "\n",
    "- Se eliminan del corpus las menciones a otros usuarios las cuales empezan con @.\n",
    "\n",
    "- Se eliminan los URLs.\n",
    "\n",
    "- Se normalizan las entidades HTML (se convierte de &amp a &). \n",
    "\n",
    "- Una vez hechos estos filtros, si hay un conjunto vacío; no se toma en cuenta dentro del corpus."
   ]
  },
  {
   "cell_type": "markdown",
   "metadata": {},
   "source": [
    "## Comparación 1: Bernie Sanders y Joe Biden"
   ]
  },
  {
   "cell_type": "markdown",
   "metadata": {},
   "source": [
    "La primera comparación es de los candidatos del partido Demócrata en EEUU para el 2020, John Biden y Bernie Sanders, los cuales ambos al ser políticos y del mismo partido político, comparten características similares, pero a la vez pertenecen a corrientes distintas entre sí."
   ]
  },
  {
   "cell_type": "markdown",
   "metadata": {},
   "source": [
    "![Biden y Sanders](https://cdn.cnn.com/cnnnext/dam/assets/190507171952-biden-sanders-split-full-169.jpg)"
   ]
  },
  {
   "cell_type": "markdown",
   "metadata": {},
   "source": [
    "Se hace obtienen los datos usando la función **api.user_timeline**, y por medio del cursor predefinido de tweepy se obtienen los datos de cada cuenta, los de **@BernieSanders** se guardan con una etiqueta 0 y los de **@JoeBiden** se guardan con la etiqueta 1."
   ]
  },
  {
   "cell_type": "code",
   "execution_count": 100,
   "metadata": {},
   "outputs": [],
   "source": [
    "corpus = []\n",
    "for status in limit_handled(tweepy.Cursor(api.user_timeline, id=\"BernieSanders\").items()):\n",
    "      if not status.retweeted and 'RT @' not in status.text:\n",
    "          text = squeezeWhitespace(splitEdgePunct(normalizeTextForTagger((re.sub('\\n', ' ',(re.sub(r'@.*', '',re.sub(r'http\\S+', '', status.text))))))))\n",
    "          if(text!=''):\n",
    "              corpus.append([text,0])\n",
    "            \n",
    "for status in limit_handled(tweepy.Cursor(api.user_timeline, id=\"JoeBiden\").items()):\n",
    "      if not status.retweeted and 'RT @' not in status.text:\n",
    "          if(text!=''):\n",
    "              corpus.append([text,1])"
   ]
  },
  {
   "cell_type": "markdown",
   "metadata": {},
   "source": [
    "Por medio de un archivo **pickle** se guardan los datos obtenidos del corpus y se recuperan para su posterior uso."
   ]
  },
  {
   "cell_type": "code",
   "execution_count": 101,
   "metadata": {},
   "outputs": [],
   "source": [
    "with open('comparacion1.pickle', 'wb') as handle:\n",
    "    pickle.dump(corpus, handle, protocol=pickle.HIGHEST_PROTOCOL)\n"
   ]
  },
  {
   "cell_type": "code",
   "execution_count": 3,
   "metadata": {},
   "outputs": [],
   "source": [
    "with open('comparacion1.pickle', 'rb') as handle:\n",
    "     corpus = pickle.load(handle)"
   ]
  },
  {
   "cell_type": "markdown",
   "metadata": {},
   "source": [
    "Del corpus se dividen los datos en uno de 70% para training y 30% para testing. "
   ]
  },
  {
   "cell_type": "code",
   "execution_count": 4,
   "metadata": {},
   "outputs": [],
   "source": [
    "corpus = np.asarray(corpus)\n",
    "\n",
    "X_train, X_test, y_train, y_test = train_test_split(corpus[:,0], corpus[:,1], test_size=0.30, random_state=42)"
   ]
  },
  {
   "cell_type": "markdown",
   "metadata": {},
   "source": [
    "Se hace un CountVectorizer el cual amacena la estructura de palabras a usar."
   ]
  },
  {
   "cell_type": "code",
   "execution_count": 5,
   "metadata": {},
   "outputs": [],
   "source": [
    "count_vect = CountVectorizer()\n",
    "\n",
    "X_train_counts = count_vect.fit_transform(X_train)"
   ]
  },
  {
   "cell_type": "markdown",
   "metadata": {},
   "source": [
    "Por medio del TfidfTransformer se generan los valores de TFIDF para cada palabra."
   ]
  },
  {
   "cell_type": "code",
   "execution_count": 6,
   "metadata": {},
   "outputs": [],
   "source": [
    "tf_transformer = TfidfTransformer(use_idf=False).fit(X_train_counts)\n",
    "\n",
    "X_train_tf = tf_transformer.transform(X_train_counts)"
   ]
  },
  {
   "cell_type": "markdown",
   "metadata": {},
   "source": [
    "### Pruebas de clasificadores"
   ]
  },
  {
   "cell_type": "markdown",
   "metadata": {},
   "source": [
    "Se genera el clasificador SVC, y con este y los CountVectorizer y TfidfTransformer, Se crea un Pipeline que une todos los clasificadores en uno solo, se entrena el clasificador y hacen las predicciones. Además se tomaron en cuenta para el análisis las configuraciones que muestran un nivel de accuracy mayor al 70%.\n",
    "\n",
    "Se hacen las pruebas con diferentes valores de C para los distintos kernel:"
   ]
  },
  {
   "cell_type": "markdown",
   "metadata": {},
   "source": [
    "#### Kernel='linear' y OVR"
   ]
  },
  {
   "cell_type": "markdown",
   "metadata": {},
   "source": [
    "Se generan los diferentes valores de accuracy y matrices de confusión."
   ]
  },
  {
   "cell_type": "code",
   "execution_count": 59,
   "metadata": {},
   "outputs": [
    {
     "name": "stdout",
     "output_type": "stream",
     "text": [
      "C =0.5\n",
      "Accuracy:\n",
      "0.8220472440944881\n",
      "Matriz de confusión:\n",
      "[[547  92]\n",
      " [134 497]]\n",
      "C =1.0\n",
      "Accuracy:\n",
      "0.831496062992126\n",
      "Matriz de confusión:\n",
      "[[551  88]\n",
      " [126 505]]\n",
      "C =1.5\n",
      "Accuracy:\n",
      "0.837007874015748\n",
      "Matriz de confusión:\n",
      "[[555  84]\n",
      " [123 508]]\n",
      "C =2.0\n",
      "Accuracy:\n",
      "0.837007874015748\n",
      "Matriz de confusión:\n",
      "[[564  75]\n",
      " [132 499]]\n",
      "C =2.5\n",
      "Accuracy:\n",
      "0.8307086614173228\n",
      "Matriz de confusión:\n",
      "[[563  76]\n",
      " [139 492]]\n",
      "C =3.0\n",
      "Accuracy:\n",
      "0.8299212598425196\n",
      "Matriz de confusión:\n",
      "[[562  77]\n",
      " [139 492]]\n",
      "C =3.5\n",
      "Accuracy:\n",
      "0.8244094488188977\n",
      "Matriz de confusión:\n",
      "[[560  79]\n",
      " [144 487]]\n",
      "C =4.0\n",
      "Accuracy:\n",
      "0.8204724409448819\n",
      "Matriz de confusión:\n",
      "[[561  78]\n",
      " [150 481]]\n",
      "C =4.5\n",
      "Accuracy:\n",
      "0.8220472440944881\n",
      "Matriz de confusión:\n",
      "[[564  75]\n",
      " [151 480]]\n",
      "C =5.0\n",
      "Accuracy:\n",
      "0.8181102362204724\n",
      "Matriz de confusión:\n",
      "[[562  77]\n",
      " [154 477]]\n",
      "C =5.5\n",
      "Accuracy:\n",
      "0.8173228346456692\n",
      "Matriz de confusión:\n",
      "[[560  79]\n",
      " [153 478]]\n",
      "C =6.0\n",
      "Accuracy:\n",
      "0.8188976377952756\n",
      "Matriz de confusión:\n",
      "[[559  80]\n",
      " [150 481]]\n",
      "C =6.5\n",
      "Accuracy:\n",
      "0.8188976377952756\n",
      "Matriz de confusión:\n",
      "[[558  81]\n",
      " [149 482]]\n",
      "C =7.0\n",
      "Accuracy:\n",
      "0.8188976377952756\n",
      "Matriz de confusión:\n",
      "[[559  80]\n",
      " [150 481]]\n",
      "C =7.5\n",
      "Accuracy:\n",
      "0.8204724409448819\n",
      "Matriz de confusión:\n",
      "[[559  80]\n",
      " [148 483]]\n",
      "C =8.0\n",
      "Accuracy:\n",
      "0.8188976377952756\n",
      "Matriz de confusión:\n",
      "[[557  82]\n",
      " [148 483]]\n",
      "C =8.5\n",
      "Accuracy:\n",
      "0.8173228346456692\n",
      "Matriz de confusión:\n",
      "[[556  83]\n",
      " [149 482]]\n",
      "C =9.0\n",
      "Accuracy:\n",
      "0.8165354330708662\n",
      "Matriz de confusión:\n",
      "[[557  82]\n",
      " [151 480]]\n",
      "C =9.5\n",
      "Accuracy:\n",
      "0.8165354330708662\n",
      "Matriz de confusión:\n",
      "[[558  81]\n",
      " [152 479]]\n",
      "C =10.0\n",
      "Accuracy:\n",
      "0.8149606299212598\n",
      "Matriz de confusión:\n",
      "[[556  83]\n",
      " [152 479]]\n"
     ]
    }
   ],
   "source": [
    "i = 0.5\n",
    "listaC = []\n",
    "listaAccuracy = []\n",
    "while i <= 10:\n",
    "\n",
    "    clfLinear = SVC(probability=True, kernel='linear', C=i, decision_function_shape= 'ovr')\n",
    "\n",
    "    text_clfLinear = Pipeline([('vect', count_vect),\n",
    "                                ('tfidf', tf_transformer),\n",
    "                                ('clf', clfLinear),\n",
    "                                ])\n",
    "\n",
    "    text_clfLinear.fit(X_train, y_train)\n",
    "\n",
    "    predictions = text_clfLinear.predict(X_test)\n",
    "    listaC.append(i)\n",
    "    accuracy= accuracy_score(y_test, predictions)\n",
    "    listaAccuracy.append(accuracy)\n",
    "    print(\"C =\"+str(i))\n",
    "    print(\"Accuracy:\")\n",
    "    print(accuracy)\n",
    "    print(\"Matriz de confusión:\")\n",
    "    print(confusion_matrix(y_test, predictions))\n",
    "    i=i+0.5"
   ]
  },
  {
   "cell_type": "markdown",
   "metadata": {},
   "source": [
    "En este gráfico se aprecia la evolución del accuracy según los valores de C."
   ]
  },
  {
   "cell_type": "code",
   "execution_count": 15,
   "metadata": {},
   "outputs": [
    {
     "data": {
      "text/plain": [
       "[<matplotlib.lines.Line2D at 0x1a1c4535c0>]"
      ]
     },
     "execution_count": 15,
     "metadata": {},
     "output_type": "execute_result"
    },
    {
     "data": {
      "image/png": "[encoded data removed]",
      "text/plain": [
       "<Figure size 432x288 with 1 Axes>"
      ]
     },
     "metadata": {
      "needs_background": "light"
     },
     "output_type": "display_data"
    }
   ],
   "source": [
    "plt.ylabel('Accuracy')\n",
    "plt.xlabel('C')\n",
    "plt.plot(listaC, listaAccuracy)"
   ]
  },
  {
   "cell_type": "markdown",
   "metadata": {},
   "source": [
    "#### Kernel='linear' y OVO"
   ]
  },
  {
   "cell_type": "markdown",
   "metadata": {},
   "source": [
    "Se generan los diferentes valores de accuracy y matrices de confusión."
   ]
  },
  {
   "cell_type": "code",
   "execution_count": 17,
   "metadata": {},
   "outputs": [
    {
     "name": "stdout",
     "output_type": "stream",
     "text": [
      "C =0.5\n",
      "Accuracy:\n",
      "0.8169934640522876\n",
      "Matriz de confusión:\n",
      "[[527 163]\n",
      " [117 723]]\n",
      "C =1.0\n",
      "Accuracy:\n",
      "0.8431372549019608\n",
      "Matriz de confusión:\n",
      "[[554 136]\n",
      " [104 736]]\n",
      "C =1.5\n",
      "Accuracy:\n",
      "0.8418300653594771\n",
      "Matriz de confusión:\n",
      "[[553 137]\n",
      " [105 735]]\n",
      "C =2.0\n",
      "Accuracy:\n",
      "0.842483660130719\n",
      "Matriz de confusión:\n",
      "[[560 130]\n",
      " [111 729]]\n",
      "C =2.5\n",
      "Accuracy:\n",
      "0.8431372549019608\n",
      "Matriz de confusión:\n",
      "[[560 130]\n",
      " [110 730]]\n",
      "C =3.0\n",
      "Accuracy:\n",
      "0.8411764705882353\n",
      "Matriz de confusión:\n",
      "[[554 136]\n",
      " [107 733]]\n",
      "C =3.5\n",
      "Accuracy:\n",
      "0.8398692810457516\n",
      "Matriz de confusión:\n",
      "[[555 135]\n",
      " [110 730]]\n",
      "C =4.0\n",
      "Accuracy:\n",
      "0.8326797385620915\n",
      "Matriz de confusión:\n",
      "[[550 140]\n",
      " [116 724]]\n",
      "C =4.5\n",
      "Accuracy:\n",
      "0.834640522875817\n",
      "Matriz de confusión:\n",
      "[[552 138]\n",
      " [115 725]]\n",
      "C =5.0\n",
      "Accuracy:\n",
      "0.834640522875817\n",
      "Matriz de confusión:\n",
      "[[551 139]\n",
      " [114 726]]\n",
      "C =5.5\n",
      "Accuracy:\n",
      "0.8352941176470589\n",
      "Matriz de confusión:\n",
      "[[550 140]\n",
      " [112 728]]\n",
      "C =6.0\n",
      "Accuracy:\n",
      "0.834640522875817\n",
      "Matriz de confusión:\n",
      "[[548 142]\n",
      " [111 729]]\n",
      "C =6.5\n",
      "Accuracy:\n",
      "0.8359477124183007\n",
      "Matriz de confusión:\n",
      "[[546 144]\n",
      " [107 733]]\n",
      "C =7.0\n",
      "Accuracy:\n",
      "0.8366013071895425\n",
      "Matriz de confusión:\n",
      "[[547 143]\n",
      " [107 733]]\n",
      "C =7.5\n",
      "Accuracy:\n",
      "0.834640522875817\n",
      "Matriz de confusión:\n",
      "[[546 144]\n",
      " [109 731]]\n",
      "C =8.0\n",
      "Accuracy:\n",
      "0.834640522875817\n",
      "Matriz de confusión:\n",
      "[[549 141]\n",
      " [112 728]]\n",
      "C =8.5\n",
      "Accuracy:\n",
      "0.834640522875817\n",
      "Matriz de confusión:\n",
      "[[548 142]\n",
      " [111 729]]\n",
      "C =9.0\n",
      "Accuracy:\n",
      "0.8313725490196079\n",
      "Matriz de confusión:\n",
      "[[544 146]\n",
      " [112 728]]\n",
      "C =9.5\n",
      "Accuracy:\n",
      "0.8307189542483661\n",
      "Matriz de confusión:\n",
      "[[545 145]\n",
      " [114 726]]\n",
      "C =10.0\n",
      "Accuracy:\n",
      "0.8333333333333334\n",
      "Matriz de confusión:\n",
      "[[549 141]\n",
      " [114 726]]\n"
     ]
    }
   ],
   "source": [
    "i = 0.5\n",
    "listaC = []\n",
    "listaAccuracy = []\n",
    "while i <= 10:\n",
    "\n",
    "    clfLinear = SVC(probability=True, kernel='linear', C=i, decision_function_shape= 'ovo')\n",
    "\n",
    "    text_clfLinear = Pipeline([('vect', count_vect),\n",
    "                                ('tfidf', tf_transformer),\n",
    "                                ('clf', clfLinear),\n",
    "                                ])\n",
    "\n",
    "    text_clfLinear.fit(X_train, y_train)\n",
    "\n",
    "    predictions = text_clfLinear.predict(X_test)\n",
    "    listaC.append(i)\n",
    "    accuracy= accuracy_score(y_test, predictions)\n",
    "    listaAccuracy.append(accuracy)\n",
    "    print(\"C =\"+str(i))\n",
    "    print(\"Accuracy:\")\n",
    "    print(accuracy)\n",
    "    print(\"Matriz de confusión:\")\n",
    "    print(confusion_matrix(y_test, predictions))\n",
    "    i=i+0.5"
   ]
  },
  {
   "cell_type": "markdown",
   "metadata": {},
   "source": [
    "En este gráfico se aprecia la evolución del accuracy según los valores de C."
   ]
  },
  {
   "cell_type": "code",
   "execution_count": 19,
   "metadata": {},
   "outputs": [
    {
     "data": {
      "text/plain": [
       "[<matplotlib.lines.Line2D at 0x1a1c574fd0>]"
      ]
     },
     "execution_count": 19,
     "metadata": {},
     "output_type": "execute_result"
    },
    {
     "data": {
      "image/png": "[encoded data removed]",
      "text/plain": [
       "<Figure size 432x288 with 1 Axes>"
      ]
     },
     "metadata": {
      "needs_background": "light"
     },
     "output_type": "display_data"
    }
   ],
   "source": [
    "plt.ylabel('Accuracy')\n",
    "plt.xlabel('C')\n",
    "plt.plot(listaC, listaAccuracy)"
   ]
  },
  {
   "cell_type": "markdown",
   "metadata": {},
   "source": [
    "#### Kernel='Poly', Gamma=Scale y OVR"
   ]
  },
  {
   "cell_type": "markdown",
   "metadata": {},
   "source": [
    "Se generan los diferentes valores de accuracy y matrices de confusión."
   ]
  },
  {
   "cell_type": "code",
   "execution_count": 21,
   "metadata": {},
   "outputs": [
    {
     "name": "stdout",
     "output_type": "stream",
     "text": [
      "C =0.5\n",
      "Accuracy:\n",
      "0.730718954248366\n",
      "Matriz de confusión:\n",
      "[[304 386]\n",
      " [ 26 814]]\n",
      "C =1.0\n",
      "Accuracy:\n",
      "0.8176470588235294\n",
      "Matriz de confusión:\n",
      "[[481 209]\n",
      " [ 70 770]]\n",
      "C =1.5\n",
      "Accuracy:\n",
      "0.8281045751633986\n",
      "Matriz de confusión:\n",
      "[[500 190]\n",
      " [ 73 767]]\n",
      "C =2.0\n",
      "Accuracy:\n",
      "0.826797385620915\n",
      "Matriz de confusión:\n",
      "[[497 193]\n",
      " [ 72 768]]\n",
      "C =2.5\n",
      "Accuracy:\n",
      "0.8281045751633986\n",
      "Matriz de confusión:\n",
      "[[492 198]\n",
      " [ 65 775]]\n",
      "C =3.0\n",
      "Accuracy:\n",
      "0.8254901960784313\n",
      "Matriz de confusión:\n",
      "[[489 201]\n",
      " [ 66 774]]\n",
      "C =3.5\n",
      "Accuracy:\n",
      "0.8248366013071895\n",
      "Matriz de confusión:\n",
      "[[488 202]\n",
      " [ 66 774]]\n",
      "C =4.0\n",
      "Accuracy:\n",
      "0.8235294117647058\n",
      "Matriz de confusión:\n",
      "[[484 206]\n",
      " [ 64 776]]\n",
      "C =4.5\n",
      "Accuracy:\n",
      "0.8202614379084967\n",
      "Matriz de confusión:\n",
      "[[479 211]\n",
      " [ 64 776]]\n",
      "C =5.0\n",
      "Accuracy:\n",
      "0.8202614379084967\n",
      "Matriz de confusión:\n",
      "[[479 211]\n",
      " [ 64 776]]\n",
      "C =5.5\n",
      "Accuracy:\n",
      "0.8183006535947712\n",
      "Matriz de confusión:\n",
      "[[476 214]\n",
      " [ 64 776]]\n",
      "C =6.0\n",
      "Accuracy:\n",
      "0.8156862745098039\n",
      "Matriz de confusión:\n",
      "[[472 218]\n",
      " [ 64 776]]\n",
      "C =6.5\n",
      "Accuracy:\n",
      "0.8143790849673203\n",
      "Matriz de confusión:\n",
      "[[470 220]\n",
      " [ 64 776]]\n",
      "C =7.0\n",
      "Accuracy:\n",
      "0.8130718954248366\n",
      "Matriz de confusión:\n",
      "[[469 221]\n",
      " [ 65 775]]\n",
      "C =7.5\n",
      "Accuracy:\n",
      "0.8130718954248366\n",
      "Matriz de confusión:\n",
      "[[465 225]\n",
      " [ 61 779]]\n",
      "C =8.0\n",
      "Accuracy:\n",
      "0.8117647058823529\n",
      "Matriz de confusión:\n",
      "[[463 227]\n",
      " [ 61 779]]\n",
      "C =8.5\n",
      "Accuracy:\n",
      "0.8104575163398693\n",
      "Matriz de confusión:\n",
      "[[461 229]\n",
      " [ 61 779]]\n",
      "C =9.0\n",
      "Accuracy:\n",
      "0.8104575163398693\n",
      "Matriz de confusión:\n",
      "[[460 230]\n",
      " [ 60 780]]\n",
      "C =9.5\n",
      "Accuracy:\n",
      "0.8098039215686275\n",
      "Matriz de confusión:\n",
      "[[457 233]\n",
      " [ 58 782]]\n",
      "C =10.0\n",
      "Accuracy:\n",
      "0.8098039215686275\n",
      "Matriz de confusión:\n",
      "[[455 235]\n",
      " [ 56 784]]\n"
     ]
    }
   ],
   "source": [
    "i = 0.5\n",
    "listaC = []\n",
    "listaAccuracy = []\n",
    "while i <= 10:\n",
    "\n",
    "    clfPoly = SVC(probability=True, kernel='poly', gamma='scale', C=i, decision_function_shape= 'ovr')\n",
    "\n",
    "    text_clfPoly = Pipeline([('vect', count_vect),\n",
    "                                ('tfidf', tf_transformer),\n",
    "                                ('clf', clfPoly),\n",
    "                                ])\n",
    "\n",
    "    text_clfPoly.fit(X_train, y_train)\n",
    "\n",
    "    predictions = text_clfPoly.predict(X_test)\n",
    "    listaC.append(i)\n",
    "    accuracy= accuracy_score(y_test, predictions)\n",
    "    listaAccuracy.append(accuracy)\n",
    "    print(\"C =\"+str(i))\n",
    "    print(\"Accuracy:\")\n",
    "    print(accuracy)\n",
    "    print(\"Matriz de confusión:\")\n",
    "    print(confusion_matrix(y_test, predictions))\n",
    "    i=i+0.5"
   ]
  },
  {
   "cell_type": "markdown",
   "metadata": {},
   "source": [
    "En este gráfico se aprecia la evolución del accuracy según los valores de C."
   ]
  },
  {
   "cell_type": "code",
   "execution_count": 22,
   "metadata": {},
   "outputs": [
    {
     "data": {
      "text/plain": [
       "[<matplotlib.lines.Line2D at 0x1a1a158320>]"
      ]
     },
     "execution_count": 22,
     "metadata": {},
     "output_type": "execute_result"
    },
    {
     "data": {
      "image/png": "[encoded data removed]",
      "text/plain": [
       "<Figure size 432x288 with 1 Axes>"
      ]
     },
     "metadata": {
      "needs_background": "light"
     },
     "output_type": "display_data"
    }
   ],
   "source": [
    "plt.ylabel('Accuracy')\n",
    "plt.xlabel('C')\n",
    "plt.plot(listaC, listaAccuracy)"
   ]
  },
  {
   "cell_type": "markdown",
   "metadata": {},
   "source": [
    "#### Kernel='Poly', Gamma=Scale y OVO"
   ]
  },
  {
   "cell_type": "markdown",
   "metadata": {},
   "source": [
    "Se generan los diferentes valores de accuracy y matrices de confusión."
   ]
  },
  {
   "cell_type": "code",
   "execution_count": 25,
   "metadata": {},
   "outputs": [
    {
     "name": "stdout",
     "output_type": "stream",
     "text": [
      "C =0.5\n",
      "Accuracy:\n",
      "0.730718954248366\n",
      "Matriz de confusión:\n",
      "[[304 386]\n",
      " [ 26 814]]\n",
      "C =1.0\n",
      "Accuracy:\n",
      "0.8176470588235294\n",
      "Matriz de confusión:\n",
      "[[481 209]\n",
      " [ 70 770]]\n",
      "C =1.5\n",
      "Accuracy:\n",
      "0.8281045751633986\n",
      "Matriz de confusión:\n",
      "[[500 190]\n",
      " [ 73 767]]\n",
      "C =2.0\n",
      "Accuracy:\n",
      "0.826797385620915\n",
      "Matriz de confusión:\n",
      "[[497 193]\n",
      " [ 72 768]]\n",
      "C =2.5\n",
      "Accuracy:\n",
      "0.8281045751633986\n",
      "Matriz de confusión:\n",
      "[[492 198]\n",
      " [ 65 775]]\n",
      "C =3.0\n",
      "Accuracy:\n",
      "0.8254901960784313\n",
      "Matriz de confusión:\n",
      "[[489 201]\n",
      " [ 66 774]]\n",
      "C =3.5\n",
      "Accuracy:\n",
      "0.8248366013071895\n",
      "Matriz de confusión:\n",
      "[[488 202]\n",
      " [ 66 774]]\n",
      "C =4.0\n",
      "Accuracy:\n",
      "0.8235294117647058\n",
      "Matriz de confusión:\n",
      "[[484 206]\n",
      " [ 64 776]]\n",
      "C =4.5\n",
      "Accuracy:\n",
      "0.8202614379084967\n",
      "Matriz de confusión:\n",
      "[[479 211]\n",
      " [ 64 776]]\n",
      "C =5.0\n",
      "Accuracy:\n",
      "0.8202614379084967\n",
      "Matriz de confusión:\n",
      "[[479 211]\n",
      " [ 64 776]]\n",
      "C =5.5\n",
      "Accuracy:\n",
      "0.8183006535947712\n",
      "Matriz de confusión:\n",
      "[[476 214]\n",
      " [ 64 776]]\n",
      "C =6.0\n",
      "Accuracy:\n",
      "0.8156862745098039\n",
      "Matriz de confusión:\n",
      "[[472 218]\n",
      " [ 64 776]]\n",
      "C =6.5\n",
      "Accuracy:\n",
      "0.8143790849673203\n",
      "Matriz de confusión:\n",
      "[[470 220]\n",
      " [ 64 776]]\n",
      "C =7.0\n",
      "Accuracy:\n",
      "0.8130718954248366\n",
      "Matriz de confusión:\n",
      "[[469 221]\n",
      " [ 65 775]]\n",
      "C =7.5\n",
      "Accuracy:\n",
      "0.8130718954248366\n",
      "Matriz de confusión:\n",
      "[[465 225]\n",
      " [ 61 779]]\n",
      "C =8.0\n",
      "Accuracy:\n",
      "0.8117647058823529\n",
      "Matriz de confusión:\n",
      "[[463 227]\n",
      " [ 61 779]]\n",
      "C =8.5\n",
      "Accuracy:\n",
      "0.8104575163398693\n",
      "Matriz de confusión:\n",
      "[[461 229]\n",
      " [ 61 779]]\n",
      "C =9.0\n",
      "Accuracy:\n",
      "0.8104575163398693\n",
      "Matriz de confusión:\n",
      "[[460 230]\n",
      " [ 60 780]]\n",
      "C =9.5\n",
      "Accuracy:\n",
      "0.8098039215686275\n",
      "Matriz de confusión:\n",
      "[[457 233]\n",
      " [ 58 782]]\n",
      "C =10.0\n",
      "Accuracy:\n",
      "0.8098039215686275\n",
      "Matriz de confusión:\n",
      "[[455 235]\n",
      " [ 56 784]]\n"
     ]
    }
   ],
   "source": [
    "i = 0.5\n",
    "listaC = []\n",
    "listaAccuracy = []\n",
    "while i <= 10:\n",
    "\n",
    "    clfPoly = SVC(probability=True, kernel='poly', gamma='scale', C=i, decision_function_shape= 'ovo')\n",
    "\n",
    "    text_clfPoly = Pipeline([('vect', count_vect),\n",
    "                                ('tfidf', tf_transformer),\n",
    "                                ('clf', clfPoly),\n",
    "                                ])\n",
    "\n",
    "    text_clfPoly.fit(X_train, y_train)\n",
    "\n",
    "    predictions = text_clfPoly.predict(X_test)\n",
    "    listaC.append(i)\n",
    "    accuracy= accuracy_score(y_test, predictions)\n",
    "    listaAccuracy.append(accuracy)\n",
    "    print(\"C =\"+str(i))\n",
    "    print(\"Accuracy:\")\n",
    "    print(accuracy)\n",
    "    print(\"Matriz de confusión:\")\n",
    "    print(confusion_matrix(y_test, predictions))\n",
    "    i=i+0.5"
   ]
  },
  {
   "cell_type": "markdown",
   "metadata": {},
   "source": [
    "En este gráfico se aprecia la evolución del accuracy según los valores de C."
   ]
  },
  {
   "cell_type": "code",
   "execution_count": 27,
   "metadata": {},
   "outputs": [
    {
     "data": {
      "text/plain": [
       "[<matplotlib.lines.Line2D at 0x1a1c9b95f8>]"
      ]
     },
     "execution_count": 27,
     "metadata": {},
     "output_type": "execute_result"
    },
    {
     "data": {
      "image/png": "[encoded data removed]",
      "text/plain": [
       "<Figure size 432x288 with 1 Axes>"
      ]
     },
     "metadata": {
      "needs_background": "light"
     },
     "output_type": "display_data"
    }
   ],
   "source": [
    "plt.ylabel('Accuracy')\n",
    "plt.xlabel('C')\n",
    "plt.plot(listaC, listaAccuracy)"
   ]
  },
  {
   "cell_type": "markdown",
   "metadata": {},
   "source": [
    "#### Kernel='RBF', Gamma=Scale y OVO"
   ]
  },
  {
   "cell_type": "markdown",
   "metadata": {},
   "source": [
    "Se generan los diferentes valores de accuracy y matrices de confusión."
   ]
  },
  {
   "cell_type": "code",
   "execution_count": 28,
   "metadata": {},
   "outputs": [
    {
     "name": "stdout",
     "output_type": "stream",
     "text": [
      "C =0.5\n",
      "Accuracy:\n",
      "0.8156862745098039\n",
      "Matriz de confusión:\n",
      "[[506 184]\n",
      " [ 98 742]]\n",
      "C =1.0\n",
      "Accuracy:\n",
      "0.8398692810457516\n",
      "Matriz de confusión:\n",
      "[[539 151]\n",
      " [ 94 746]]\n",
      "C =1.5\n",
      "Accuracy:\n",
      "0.8588235294117647\n",
      "Matriz de confusión:\n",
      "[[555 135]\n",
      " [ 81 759]]\n",
      "C =2.0\n",
      "Accuracy:\n",
      "0.8581699346405228\n",
      "Matriz de confusión:\n",
      "[[559 131]\n",
      " [ 86 754]]\n",
      "C =2.5\n",
      "Accuracy:\n",
      "0.8588235294117647\n",
      "Matriz de confusión:\n",
      "[[560 130]\n",
      " [ 86 754]]\n",
      "C =3.0\n",
      "Accuracy:\n",
      "0.8594771241830066\n",
      "Matriz de confusión:\n",
      "[[560 130]\n",
      " [ 85 755]]\n",
      "C =3.5\n",
      "Accuracy:\n",
      "0.8594771241830066\n",
      "Matriz de confusión:\n",
      "[[560 130]\n",
      " [ 85 755]]\n",
      "C =4.0\n",
      "Accuracy:\n",
      "0.8601307189542484\n",
      "Matriz de confusión:\n",
      "[[561 129]\n",
      " [ 85 755]]\n",
      "C =4.5\n",
      "Accuracy:\n",
      "0.8601307189542484\n",
      "Matriz de confusión:\n",
      "[[561 129]\n",
      " [ 85 755]]\n",
      "C =5.0\n",
      "Accuracy:\n",
      "0.8601307189542484\n",
      "Matriz de confusión:\n",
      "[[561 129]\n",
      " [ 85 755]]\n",
      "C =5.5\n",
      "Accuracy:\n",
      "0.8601307189542484\n",
      "Matriz de confusión:\n",
      "[[561 129]\n",
      " [ 85 755]]\n",
      "C =6.0\n",
      "Accuracy:\n",
      "0.8594771241830066\n",
      "Matriz de confusión:\n",
      "[[561 129]\n",
      " [ 86 754]]\n",
      "C =6.5\n",
      "Accuracy:\n",
      "0.8594771241830066\n",
      "Matriz de confusión:\n",
      "[[561 129]\n",
      " [ 86 754]]\n",
      "C =7.0\n",
      "Accuracy:\n",
      "0.8594771241830066\n",
      "Matriz de confusión:\n",
      "[[561 129]\n",
      " [ 86 754]]\n",
      "C =7.5\n",
      "Accuracy:\n",
      "0.8594771241830066\n",
      "Matriz de confusión:\n",
      "[[561 129]\n",
      " [ 86 754]]\n",
      "C =8.0\n",
      "Accuracy:\n",
      "0.8594771241830066\n",
      "Matriz de confusión:\n",
      "[[561 129]\n",
      " [ 86 754]]\n",
      "C =8.5\n",
      "Accuracy:\n",
      "0.8588235294117647\n",
      "Matriz de confusión:\n",
      "[[560 130]\n",
      " [ 86 754]]\n",
      "C =9.0\n",
      "Accuracy:\n",
      "0.8588235294117647\n",
      "Matriz de confusión:\n",
      "[[560 130]\n",
      " [ 86 754]]\n",
      "C =9.5\n",
      "Accuracy:\n",
      "0.8588235294117647\n",
      "Matriz de confusión:\n",
      "[[560 130]\n",
      " [ 86 754]]\n",
      "C =10.0\n",
      "Accuracy:\n",
      "0.8588235294117647\n",
      "Matriz de confusión:\n",
      "[[560 130]\n",
      " [ 86 754]]\n"
     ]
    }
   ],
   "source": [
    "i = 0.5\n",
    "listaC = []\n",
    "listaAccuracy = []\n",
    "while i <= 10:\n",
    "\n",
    "    clfPoly = SVC(probability=True, kernel='rbf', gamma='scale', C=i, decision_function_shape= 'ovo')\n",
    "\n",
    "    text_clfPoly = Pipeline([('vect', count_vect),\n",
    "                                ('tfidf', tf_transformer),\n",
    "                                ('clf', clfPoly),\n",
    "                                ])\n",
    "\n",
    "    text_clfPoly.fit(X_train, y_train)\n",
    "\n",
    "    predictions = text_clfPoly.predict(X_test)\n",
    "    listaC.append(i)\n",
    "    accuracy= accuracy_score(y_test, predictions)\n",
    "    listaAccuracy.append(accuracy)\n",
    "    print(\"C =\"+str(i))\n",
    "    print(\"Accuracy:\")\n",
    "    print(accuracy)\n",
    "    print(\"Matriz de confusión:\")\n",
    "    print(confusion_matrix(y_test, predictions))\n",
    "    i=i+0.5"
   ]
  },
  {
   "cell_type": "markdown",
   "metadata": {},
   "source": [
    "En este gráfico se aprecia la evolución del accuracy según los valores de C."
   ]
  },
  {
   "cell_type": "code",
   "execution_count": 29,
   "metadata": {},
   "outputs": [
    {
     "data": {
      "text/plain": [
       "[<matplotlib.lines.Line2D at 0x1a1a1c2860>]"
      ]
     },
     "execution_count": 29,
     "metadata": {},
     "output_type": "execute_result"
    },
    {
     "data": {
      "image/png": "[encoded data removed]",
      "text/plain": [
       "<Figure size 432x288 with 1 Axes>"
      ]
     },
     "metadata": {
      "needs_background": "light"
     },
     "output_type": "display_data"
    }
   ],
   "source": [
    "plt.ylabel('Accuracy')\n",
    "plt.xlabel('C')\n",
    "plt.plot(listaC, listaAccuracy)"
   ]
  },
  {
   "cell_type": "markdown",
   "metadata": {},
   "source": [
    "#### Kernel='RBF', Gamma=Scale y OVR"
   ]
  },
  {
   "cell_type": "markdown",
   "metadata": {},
   "source": [
    "Se generan los diferentes valores de accuracy y matrices de confusión."
   ]
  },
  {
   "cell_type": "code",
   "execution_count": 31,
   "metadata": {},
   "outputs": [
    {
     "name": "stdout",
     "output_type": "stream",
     "text": [
      "C =0.5\n",
      "Accuracy:\n",
      "0.8156862745098039\n",
      "Matriz de confusión:\n",
      "[[506 184]\n",
      " [ 98 742]]\n",
      "C =1.0\n",
      "Accuracy:\n",
      "0.8398692810457516\n",
      "Matriz de confusión:\n",
      "[[539 151]\n",
      " [ 94 746]]\n",
      "C =1.5\n",
      "Accuracy:\n",
      "0.8588235294117647\n",
      "Matriz de confusión:\n",
      "[[555 135]\n",
      " [ 81 759]]\n",
      "C =2.0\n",
      "Accuracy:\n",
      "0.8581699346405228\n",
      "Matriz de confusión:\n",
      "[[559 131]\n",
      " [ 86 754]]\n",
      "C =2.5\n",
      "Accuracy:\n",
      "0.8588235294117647\n",
      "Matriz de confusión:\n",
      "[[560 130]\n",
      " [ 86 754]]\n",
      "C =3.0\n",
      "Accuracy:\n",
      "0.8594771241830066\n",
      "Matriz de confusión:\n",
      "[[560 130]\n",
      " [ 85 755]]\n",
      "C =3.5\n",
      "Accuracy:\n",
      "0.8594771241830066\n",
      "Matriz de confusión:\n",
      "[[560 130]\n",
      " [ 85 755]]\n",
      "C =4.0\n",
      "Accuracy:\n",
      "0.8601307189542484\n",
      "Matriz de confusión:\n",
      "[[561 129]\n",
      " [ 85 755]]\n",
      "C =4.5\n",
      "Accuracy:\n",
      "0.8601307189542484\n",
      "Matriz de confusión:\n",
      "[[561 129]\n",
      " [ 85 755]]\n",
      "C =5.0\n",
      "Accuracy:\n",
      "0.8601307189542484\n",
      "Matriz de confusión:\n",
      "[[561 129]\n",
      " [ 85 755]]\n",
      "C =5.5\n",
      "Accuracy:\n",
      "0.8601307189542484\n",
      "Matriz de confusión:\n",
      "[[561 129]\n",
      " [ 85 755]]\n",
      "C =6.0\n",
      "Accuracy:\n",
      "0.8594771241830066\n",
      "Matriz de confusión:\n",
      "[[561 129]\n",
      " [ 86 754]]\n",
      "C =6.5\n",
      "Accuracy:\n",
      "0.8594771241830066\n",
      "Matriz de confusión:\n",
      "[[561 129]\n",
      " [ 86 754]]\n",
      "C =7.0\n",
      "Accuracy:\n",
      "0.8594771241830066\n",
      "Matriz de confusión:\n",
      "[[561 129]\n",
      " [ 86 754]]\n",
      "C =7.5\n",
      "Accuracy:\n",
      "0.8594771241830066\n",
      "Matriz de confusión:\n",
      "[[561 129]\n",
      " [ 86 754]]\n",
      "C =8.0\n",
      "Accuracy:\n",
      "0.8594771241830066\n",
      "Matriz de confusión:\n",
      "[[561 129]\n",
      " [ 86 754]]\n",
      "C =8.5\n",
      "Accuracy:\n",
      "0.8588235294117647\n",
      "Matriz de confusión:\n",
      "[[560 130]\n",
      " [ 86 754]]\n",
      "C =9.0\n",
      "Accuracy:\n",
      "0.8588235294117647\n",
      "Matriz de confusión:\n",
      "[[560 130]\n",
      " [ 86 754]]\n",
      "C =9.5\n",
      "Accuracy:\n",
      "0.8588235294117647\n",
      "Matriz de confusión:\n",
      "[[560 130]\n",
      " [ 86 754]]\n",
      "C =10.0\n",
      "Accuracy:\n",
      "0.8588235294117647\n",
      "Matriz de confusión:\n",
      "[[560 130]\n",
      " [ 86 754]]\n"
     ]
    }
   ],
   "source": [
    "i = 0.5\n",
    "listaC = []\n",
    "listaAccuracy = []\n",
    "while i <= 10:\n",
    "\n",
    "    clfPoly = SVC(probability=True, kernel='rbf', gamma='scale', C=i, decision_function_shape= 'ovr')\n",
    "\n",
    "    text_clfPoly = Pipeline([('vect', count_vect),\n",
    "                                ('tfidf', tf_transformer),\n",
    "                                ('clf', clfPoly),\n",
    "                                ])\n",
    "\n",
    "    text_clfPoly.fit(X_train, y_train)\n",
    "\n",
    "    predictions = text_clfPoly.predict(X_test)\n",
    "    listaC.append(i)\n",
    "    accuracy= accuracy_score(y_test, predictions)\n",
    "    listaAccuracy.append(accuracy)\n",
    "    print(\"C =\"+str(i))\n",
    "    print(\"Accuracy:\")\n",
    "    print(accuracy)\n",
    "    print(\"Matriz de confusión:\")\n",
    "    print(confusion_matrix(y_test, predictions))\n",
    "    i=i+0.5"
   ]
  },
  {
   "cell_type": "markdown",
   "metadata": {},
   "source": [
    "En este gráfico se aprecia la evolución del accuracy según los valores de C."
   ]
  },
  {
   "cell_type": "code",
   "execution_count": 32,
   "metadata": {},
   "outputs": [
    {
     "data": {
      "text/plain": [
       "[<matplotlib.lines.Line2D at 0x1a1c933dd8>]"
      ]
     },
     "execution_count": 32,
     "metadata": {},
     "output_type": "execute_result"
    },
    {
     "data": {
      "image/png": "[encoded data removed]",
      "text/plain": [
       "<Figure size 432x288 with 1 Axes>"
      ]
     },
     "metadata": {
      "needs_background": "light"
     },
     "output_type": "display_data"
    }
   ],
   "source": [
    "plt.ylabel('Accuracy')\n",
    "plt.xlabel('C')\n",
    "plt.plot(listaC, listaAccuracy)"
   ]
  },
  {
   "cell_type": "markdown",
   "metadata": {},
   "source": [
    "### Mejor resultado"
   ]
  },
  {
   "cell_type": "markdown",
   "metadata": {},
   "source": [
    "El mejor resultado es de **Kernel= RBF, Gamma=Scale C= 4.0 y OVR**, se escoge el C de **1.0** al ser menor que otros valores de C que obtuvieron el mismo resultado, donde se obtiene una efectividad de predicción del **86.01%**, el cual tiene es la mayor consultada."
   ]
  },
  {
   "cell_type": "markdown",
   "metadata": {},
   "source": [
    "Y por medio de la matriz de confusión para tales parámetros, se muestra que con la etiqueta 0 - de Bernie Sanders- acertó 561 veces pero falló en 129, y con la etiqueta 1 - de Joe Biden - acertó 755 veces pero falló 85 veces."
   ]
  },
  {
   "cell_type": "code",
   "execution_count": null,
   "metadata": {},
   "outputs": [],
   "source": [
    "[[561 129]\n",
    " [ 85 755]]"
   ]
  },
  {
   "cell_type": "markdown",
   "metadata": {},
   "source": [
    "## Comparación 2: Gary Lineker y Ariana Grande"
   ]
  },
  {
   "cell_type": "markdown",
   "metadata": {},
   "source": [
    "![Ariana y Gary](GARY_ARIANA2.png)"
   ]
  },
  {
   "cell_type": "markdown",
   "metadata": {},
   "source": [
    "La segunda comparación es con los personajes Gary Lineker, en Twitter como **@garylineker** - exfutbolista inglés y comentarista de televisión - y Ariana Grande, en Twitter como **@arianagrande** - cantante estadounidense de pop -  los cuales pueden tener un corpus muy distinto de tweets entre sí."
   ]
  },
  {
   "cell_type": "markdown",
   "metadata": {},
   "source": [
    "Al igual que en el análisis anterior se hace toman los datos, los de Ariana Grande con la etiqueta 0 y los de Gary Lineker con la etiqueta 1."
   ]
  },
  {
   "cell_type": "code",
   "execution_count": 41,
   "metadata": {},
   "outputs": [],
   "source": [
    "corpus2 = []\n",
    "\n",
    "for status in limit_handled(tweepy.Cursor(api.user_timeline, id=\"arianagrande\").items()):\n",
    "      if not status.retweeted and 'RT @' not in status.text:\n",
    "          text = squeezeWhitespace(splitEdgePunct(normalizeTextForTagger((re.sub('\\n', ' ',(re.sub(r'@.*', '',re.sub(r'http\\S+', '', status.text))))))))\n",
    "          if(text!=''):\n",
    "              corpus2.append([text,0])\n",
    "        \n",
    "count = 0\n",
    "for status in limit_handled(tweepy.Cursor(api.user_timeline, id=\"garylineker\").items()):\n",
    "      if not status.retweeted and 'RT @' not in status.text:\n",
    "          text = squeezeWhitespace(splitEdgePunct(normalizeTextForTagger((re.sub('\\n', ' ',(re.sub(r'@.*', '',re.sub(r'http\\S+', '', status.text))))))))\n",
    "          if(text!=''):\n",
    "              corpus2.append([text,1])\n"
   ]
  },
  {
   "cell_type": "markdown",
   "metadata": {},
   "source": [
    "Se guardan los datos en un archivo pickle:"
   ]
  },
  {
   "cell_type": "code",
   "execution_count": 42,
   "metadata": {},
   "outputs": [],
   "source": [
    "with open('comparacion2.pickle', 'wb') as handle:\n",
    "    pickle.dump(corpus2, handle, protocol=pickle.HIGHEST_PROTOCOL)"
   ]
  },
  {
   "cell_type": "code",
   "execution_count": 43,
   "metadata": {},
   "outputs": [],
   "source": [
    "with open('comparacion2.pickle', 'rb') as handle:\n",
    "    corpus2 = pickle.load(handle)"
   ]
  },
  {
   "cell_type": "markdown",
   "metadata": {},
   "source": [
    "Se hace el análisis y división del texto del corpus:"
   ]
  },
  {
   "cell_type": "code",
   "execution_count": 44,
   "metadata": {},
   "outputs": [],
   "source": [
    "corpus2 = np.array(corpus2)\n",
    "\n",
    "X_train, X_test, y_train, y_test = train_test_split(corpus2[:,0], corpus2[:,1], test_size=0.30, random_state=42)\n",
    "\n",
    "count_vect = CountVectorizer()\n",
    "X_train_counts = count_vect.fit_transform(X_train)\n",
    "\n",
    "tf_transformer = TfidfTransformer(use_idf=False).fit(X_train_counts)\n",
    "X_train_tf = tf_transformer.transform(X_train_counts)\n"
   ]
  },
  {
   "cell_type": "markdown",
   "metadata": {},
   "source": [
    "### Pruebas de clasificadores"
   ]
  },
  {
   "cell_type": "markdown",
   "metadata": {},
   "source": [
    "Se genera el clasificador SVC, y con este y los CountVectorizer y TfidfTransformer, Se crea un Pipeline que une todos los clasificadores en uno solo, se entrena el clasificador y hacen las predicciones. Además se tomaron en cuenta para el análisis las configuraciones que muestran un nivel de accuracy mayor al 70%.\n",
    "\n",
    "Se hacen las pruebas con diferentes valores de C para los distintos kernel:"
   ]
  },
  {
   "cell_type": "markdown",
   "metadata": {},
   "source": [
    "#### Kernel='linear' con OVR"
   ]
  },
  {
   "cell_type": "markdown",
   "metadata": {},
   "source": [
    "Se generan los diferentes valores de accuracy y matrices de confusión."
   ]
  },
  {
   "cell_type": "code",
   "execution_count": 45,
   "metadata": {},
   "outputs": [
    {
     "name": "stdout",
     "output_type": "stream",
     "text": [
      "C =0.5\n",
      "Accuracy:\n",
      "0.8220472440944881\n",
      "Matriz de confusión:\n",
      "[[547  92]\n",
      " [134 497]]\n",
      "C =1.0\n",
      "Accuracy:\n",
      "0.831496062992126\n",
      "Matriz de confusión:\n",
      "[[551  88]\n",
      " [126 505]]\n",
      "C =1.5\n",
      "Accuracy:\n",
      "0.837007874015748\n",
      "Matriz de confusión:\n",
      "[[555  84]\n",
      " [123 508]]\n",
      "C =2.0\n",
      "Accuracy:\n",
      "0.837007874015748\n",
      "Matriz de confusión:\n",
      "[[564  75]\n",
      " [132 499]]\n",
      "C =2.5\n",
      "Accuracy:\n",
      "0.8307086614173228\n",
      "Matriz de confusión:\n",
      "[[563  76]\n",
      " [139 492]]\n",
      "C =3.0\n",
      "Accuracy:\n",
      "0.8299212598425196\n",
      "Matriz de confusión:\n",
      "[[562  77]\n",
      " [139 492]]\n",
      "C =3.5\n",
      "Accuracy:\n",
      "0.8244094488188977\n",
      "Matriz de confusión:\n",
      "[[560  79]\n",
      " [144 487]]\n",
      "C =4.0\n",
      "Accuracy:\n",
      "0.8204724409448819\n",
      "Matriz de confusión:\n",
      "[[561  78]\n",
      " [150 481]]\n",
      "C =4.5\n",
      "Accuracy:\n",
      "0.8220472440944881\n",
      "Matriz de confusión:\n",
      "[[564  75]\n",
      " [151 480]]\n",
      "C =5.0\n",
      "Accuracy:\n",
      "0.8181102362204724\n",
      "Matriz de confusión:\n",
      "[[562  77]\n",
      " [154 477]]\n",
      "C =5.5\n",
      "Accuracy:\n",
      "0.8173228346456692\n",
      "Matriz de confusión:\n",
      "[[560  79]\n",
      " [153 478]]\n",
      "C =6.0\n",
      "Accuracy:\n",
      "0.8188976377952756\n",
      "Matriz de confusión:\n",
      "[[559  80]\n",
      " [150 481]]\n",
      "C =6.5\n",
      "Accuracy:\n",
      "0.8188976377952756\n",
      "Matriz de confusión:\n",
      "[[558  81]\n",
      " [149 482]]\n",
      "C =7.0\n",
      "Accuracy:\n",
      "0.8188976377952756\n",
      "Matriz de confusión:\n",
      "[[559  80]\n",
      " [150 481]]\n",
      "C =7.5\n",
      "Accuracy:\n",
      "0.8204724409448819\n",
      "Matriz de confusión:\n",
      "[[559  80]\n",
      " [148 483]]\n",
      "C =8.0\n",
      "Accuracy:\n",
      "0.8188976377952756\n",
      "Matriz de confusión:\n",
      "[[557  82]\n",
      " [148 483]]\n",
      "C =8.5\n",
      "Accuracy:\n",
      "0.8173228346456692\n",
      "Matriz de confusión:\n",
      "[[556  83]\n",
      " [149 482]]\n",
      "C =9.0\n",
      "Accuracy:\n",
      "0.8165354330708662\n",
      "Matriz de confusión:\n",
      "[[557  82]\n",
      " [151 480]]\n",
      "C =9.5\n",
      "Accuracy:\n",
      "0.8165354330708662\n",
      "Matriz de confusión:\n",
      "[[558  81]\n",
      " [152 479]]\n",
      "C =10.0\n",
      "Accuracy:\n",
      "0.8149606299212598\n",
      "Matriz de confusión:\n",
      "[[556  83]\n",
      " [152 479]]\n"
     ]
    }
   ],
   "source": [
    "i = 0.5\n",
    "listaC = []\n",
    "listaAccuracy = []\n",
    "while i <= 10:\n",
    "\n",
    "    clfLinear = SVC(probability=True, kernel='linear', C=i, decision_function_shape= 'ovr')\n",
    "\n",
    "    text_clfLinear = Pipeline([('vect', count_vect),\n",
    "                                ('tfidf', tf_transformer),\n",
    "                                ('clf', clfLinear),\n",
    "                                ])\n",
    "\n",
    "    text_clfLinear.fit(X_train, y_train)\n",
    "\n",
    "    predictions = text_clfLinear.predict(X_test)\n",
    "    listaC.append(i)\n",
    "    accuracy= accuracy_score(y_test, predictions)\n",
    "    listaAccuracy.append(accuracy)\n",
    "    print(\"C =\"+str(i))\n",
    "    print(\"Accuracy:\")\n",
    "    print(accuracy)\n",
    "    print(\"Matriz de confusión:\")\n",
    "    print(confusion_matrix(y_test, predictions))\n",
    "    i=i+0.5"
   ]
  },
  {
   "cell_type": "markdown",
   "metadata": {},
   "source": [
    "En este gráfico se aprecia la evolución del accuracy según los valores de C."
   ]
  },
  {
   "cell_type": "code",
   "execution_count": 47,
   "metadata": {},
   "outputs": [
    {
     "data": {
      "text/plain": [
       "[<matplotlib.lines.Line2D at 0x1a1e31f780>]"
      ]
     },
     "execution_count": 47,
     "metadata": {},
     "output_type": "execute_result"
    },
    {
     "data": {
      "image/png": "[encoded data removed]",
      "text/plain": [
       "<Figure size 432x288 with 1 Axes>"
      ]
     },
     "metadata": {
      "needs_background": "light"
     },
     "output_type": "display_data"
    }
   ],
   "source": [
    "plt.ylabel('Accuracy')\n",
    "plt.xlabel('C')\n",
    "plt.plot(listaC, listaAccuracy)"
   ]
  },
  {
   "cell_type": "markdown",
   "metadata": {},
   "source": [
    "#### Kernel='linear' con OVO"
   ]
  },
  {
   "cell_type": "markdown",
   "metadata": {},
   "source": [
    "Se generan los diferentes valores de accuracy y matrices de confusión."
   ]
  },
  {
   "cell_type": "code",
   "execution_count": 48,
   "metadata": {},
   "outputs": [
    {
     "name": "stdout",
     "output_type": "stream",
     "text": [
      "C =1\n",
      "Accuracy:\n",
      "0.831496062992126\n",
      "Matriz de confusión:\n",
      "[[551  88]\n",
      " [126 505]]\n",
      "C =1.5\n",
      "Accuracy:\n",
      "0.837007874015748\n",
      "Matriz de confusión:\n",
      "[[555  84]\n",
      " [123 508]]\n",
      "C =2.0\n",
      "Accuracy:\n",
      "0.837007874015748\n",
      "Matriz de confusión:\n",
      "[[564  75]\n",
      " [132 499]]\n",
      "C =2.5\n",
      "Accuracy:\n",
      "0.8307086614173228\n",
      "Matriz de confusión:\n",
      "[[563  76]\n",
      " [139 492]]\n",
      "C =3.0\n",
      "Accuracy:\n",
      "0.8299212598425196\n",
      "Matriz de confusión:\n",
      "[[562  77]\n",
      " [139 492]]\n",
      "C =3.5\n",
      "Accuracy:\n",
      "0.8244094488188977\n",
      "Matriz de confusión:\n",
      "[[560  79]\n",
      " [144 487]]\n",
      "C =4.0\n",
      "Accuracy:\n",
      "0.8204724409448819\n",
      "Matriz de confusión:\n",
      "[[561  78]\n",
      " [150 481]]\n",
      "C =4.5\n",
      "Accuracy:\n",
      "0.8220472440944881\n",
      "Matriz de confusión:\n",
      "[[564  75]\n",
      " [151 480]]\n",
      "C =5.0\n",
      "Accuracy:\n",
      "0.8181102362204724\n",
      "Matriz de confusión:\n",
      "[[562  77]\n",
      " [154 477]]\n",
      "C =5.5\n",
      "Accuracy:\n",
      "0.8173228346456692\n",
      "Matriz de confusión:\n",
      "[[560  79]\n",
      " [153 478]]\n",
      "C =6.0\n",
      "Accuracy:\n",
      "0.8188976377952756\n",
      "Matriz de confusión:\n",
      "[[559  80]\n",
      " [150 481]]\n",
      "C =6.5\n",
      "Accuracy:\n",
      "0.8188976377952756\n",
      "Matriz de confusión:\n",
      "[[558  81]\n",
      " [149 482]]\n",
      "C =7.0\n",
      "Accuracy:\n",
      "0.8188976377952756\n",
      "Matriz de confusión:\n",
      "[[559  80]\n",
      " [150 481]]\n",
      "C =7.5\n",
      "Accuracy:\n",
      "0.8204724409448819\n",
      "Matriz de confusión:\n",
      "[[559  80]\n",
      " [148 483]]\n",
      "C =8.0\n",
      "Accuracy:\n",
      "0.8188976377952756\n",
      "Matriz de confusión:\n",
      "[[557  82]\n",
      " [148 483]]\n",
      "C =8.5\n",
      "Accuracy:\n",
      "0.8173228346456692\n",
      "Matriz de confusión:\n",
      "[[556  83]\n",
      " [149 482]]\n",
      "C =9.0\n",
      "Accuracy:\n",
      "0.8165354330708662\n",
      "Matriz de confusión:\n",
      "[[557  82]\n",
      " [151 480]]\n",
      "C =9.5\n",
      "Accuracy:\n",
      "0.8165354330708662\n",
      "Matriz de confusión:\n",
      "[[558  81]\n",
      " [152 479]]\n",
      "C =10.0\n",
      "Accuracy:\n",
      "0.8149606299212598\n",
      "Matriz de confusión:\n",
      "[[556  83]\n",
      " [152 479]]\n"
     ]
    }
   ],
   "source": [
    "i = 1\n",
    "listaC = []\n",
    "listaAccuracy = []\n",
    "while i <= 10:\n",
    "\n",
    "    clfLinear = SVC(probability=True, kernel='linear', C=i, decision_function_shape= 'ovo')\n",
    "\n",
    "    text_clfLinear = Pipeline([('vect', count_vect),\n",
    "                                ('tfidf', tf_transformer),\n",
    "                                ('clf', clfLinear),\n",
    "                                ])\n",
    "\n",
    "    text_clfLinear.fit(X_train, y_train)\n",
    "\n",
    "    predictions = text_clfLinear.predict(X_test)\n",
    "    listaC.append(i)\n",
    "    accuracy= accuracy_score(y_test, predictions)\n",
    "    listaAccuracy.append(accuracy)\n",
    "    print(\"C =\"+str(i))\n",
    "    print(\"Accuracy:\")\n",
    "    print(accuracy)\n",
    "    print(\"Matriz de confusión:\")\n",
    "    print(confusion_matrix(y_test, predictions))\n",
    "    i=i+0.5"
   ]
  },
  {
   "cell_type": "markdown",
   "metadata": {},
   "source": [
    "En este gráfico se aprecia la evolución del accuracy según los valores de C."
   ]
  },
  {
   "cell_type": "code",
   "execution_count": 49,
   "metadata": {},
   "outputs": [
    {
     "data": {
      "text/plain": [
       "[<matplotlib.lines.Line2D at 0x1a1aa22e10>]"
      ]
     },
     "execution_count": 49,
     "metadata": {},
     "output_type": "execute_result"
    },
    {
     "data": {
      "image/png": "[encoded data removed]",
      "text/plain": [
       "<Figure size 432x288 with 1 Axes>"
      ]
     },
     "metadata": {
      "needs_background": "light"
     },
     "output_type": "display_data"
    }
   ],
   "source": [
    "plt.ylabel('Accuracy')\n",
    "plt.xlabel('C')\n",
    "plt.plot(listaC, listaAccuracy)"
   ]
  },
  {
   "cell_type": "markdown",
   "metadata": {},
   "source": [
    "#### Kernel='Poly', Gamma=Scale y OVR"
   ]
  },
  {
   "cell_type": "markdown",
   "metadata": {},
   "source": [
    "Se generan los diferentes valores de accuracy y matrices de confusión."
   ]
  },
  {
   "cell_type": "code",
   "execution_count": 50,
   "metadata": {},
   "outputs": [
    {
     "name": "stdout",
     "output_type": "stream",
     "text": [
      "C =0.5\n",
      "Accuracy:\n",
      "0.7322834645669292\n",
      "Matriz de confusión:\n",
      "[[323 316]\n",
      " [ 24 607]]\n",
      "C =1.0\n",
      "Accuracy:\n",
      "0.8291338582677166\n",
      "Matriz de confusión:\n",
      "[[535 104]\n",
      " [113 518]]\n",
      "C =1.5\n",
      "Accuracy:\n",
      "0.8259842519685039\n",
      "Matriz de confusión:\n",
      "[[548  91]\n",
      " [130 501]]\n",
      "C =2.0\n",
      "Accuracy:\n",
      "0.8141732283464567\n",
      "Matriz de confusión:\n",
      "[[560  79]\n",
      " [157 474]]\n",
      "C =2.5\n",
      "Accuracy:\n",
      "0.8086614173228347\n",
      "Matriz de confusión:\n",
      "[[567  72]\n",
      " [171 460]]\n",
      "C =3.0\n",
      "Accuracy:\n",
      "0.7929133858267716\n",
      "Matriz de confusión:\n",
      "[[571  68]\n",
      " [195 436]]\n",
      "C =3.5\n",
      "Accuracy:\n",
      "0.778740157480315\n",
      "Matriz de confusión:\n",
      "[[574  65]\n",
      " [216 415]]\n",
      "C =4.0\n",
      "Accuracy:\n",
      "0.7692913385826772\n",
      "Matriz de confusión:\n",
      "[[575  64]\n",
      " [229 402]]\n",
      "C =4.5\n",
      "Accuracy:\n",
      "0.7543307086614173\n",
      "Matriz de confusión:\n",
      "[[577  62]\n",
      " [250 381]]\n",
      "C =5.0\n",
      "Accuracy:\n",
      "0.74251968503937\n",
      "Matriz de confusión:\n",
      "[[578  61]\n",
      " [266 365]]\n",
      "C =5.5\n",
      "Accuracy:\n",
      "0.7338582677165354\n",
      "Matriz de confusión:\n",
      "[[580  59]\n",
      " [279 352]]\n",
      "C =6.0\n",
      "Accuracy:\n",
      "0.7251968503937007\n",
      "Matriz de confusión:\n",
      "[[582  57]\n",
      " [292 339]]\n",
      "C =6.5\n",
      "Accuracy:\n",
      "0.7173228346456693\n",
      "Matriz de confusión:\n",
      "[[582  57]\n",
      " [302 329]]\n",
      "C =7.0\n",
      "Accuracy:\n",
      "0.7173228346456693\n",
      "Matriz de confusión:\n",
      "[[582  57]\n",
      " [302 329]]\n",
      "C =7.5\n",
      "Accuracy:\n",
      "0.7173228346456693\n",
      "Matriz de confusión:\n",
      "[[582  57]\n",
      " [302 329]]\n",
      "C =8.0\n",
      "Accuracy:\n",
      "0.7173228346456693\n",
      "Matriz de confusión:\n",
      "[[582  57]\n",
      " [302 329]]\n",
      "C =8.5\n",
      "Accuracy:\n",
      "0.7173228346456693\n",
      "Matriz de confusión:\n",
      "[[582  57]\n",
      " [302 329]]\n",
      "C =9.0\n",
      "Accuracy:\n",
      "0.7173228346456693\n",
      "Matriz de confusión:\n",
      "[[582  57]\n",
      " [302 329]]\n",
      "C =9.5\n",
      "Accuracy:\n",
      "0.7173228346456693\n",
      "Matriz de confusión:\n",
      "[[582  57]\n",
      " [302 329]]\n",
      "C =10.0\n",
      "Accuracy:\n",
      "0.7173228346456693\n",
      "Matriz de confusión:\n",
      "[[582  57]\n",
      " [302 329]]\n"
     ]
    }
   ],
   "source": [
    "i = 0.5\n",
    "listaC = []\n",
    "listaAccuracy = []\n",
    "while i <= 10:\n",
    "\n",
    "    clfPoly = SVC(probability=True, kernel='poly', gamma='scale', C=i, decision_function_shape= 'ovr')\n",
    "\n",
    "    text_clfPoly = Pipeline([('vect', count_vect),\n",
    "                                ('tfidf', tf_transformer),\n",
    "                                ('clf', clfPoly),\n",
    "                                ])\n",
    "\n",
    "    text_clfPoly.fit(X_train, y_train)\n",
    "\n",
    "    predictions = text_clfPoly.predict(X_test)\n",
    "    listaC.append(i)\n",
    "    accuracy= accuracy_score(y_test, predictions)\n",
    "    listaAccuracy.append(accuracy)\n",
    "    print(\"C =\"+str(i))\n",
    "    print(\"Accuracy:\")\n",
    "    print(accuracy)\n",
    "    print(\"Matriz de confusión:\")\n",
    "    print(confusion_matrix(y_test, predictions))\n",
    "    i=i+0.5"
   ]
  },
  {
   "cell_type": "markdown",
   "metadata": {},
   "source": [
    "En este gráfico se aprecia la evolución del accuracy según los valores de C."
   ]
  },
  {
   "cell_type": "code",
   "execution_count": 51,
   "metadata": {},
   "outputs": [
    {
     "data": {
      "text/plain": [
       "[<matplotlib.lines.Line2D at 0x1a1c4ac908>]"
      ]
     },
     "execution_count": 51,
     "metadata": {},
     "output_type": "execute_result"
    },
    {
     "data": {
      "image/png": "[encoded data removed]",
      "text/plain": [
       "<Figure size 432x288 with 1 Axes>"
      ]
     },
     "metadata": {
      "needs_background": "light"
     },
     "output_type": "display_data"
    }
   ],
   "source": [
    "plt.ylabel('Accuracy')\n",
    "plt.xlabel('C')\n",
    "plt.plot(listaC, listaAccuracy)"
   ]
  },
  {
   "cell_type": "markdown",
   "metadata": {},
   "source": [
    "#### Kernel='Poly', Gamma=Scale y OVO"
   ]
  },
  {
   "cell_type": "markdown",
   "metadata": {},
   "source": [
    "Se generan los diferentes valores de accuracy y matrices de confusión."
   ]
  },
  {
   "cell_type": "code",
   "execution_count": 52,
   "metadata": {},
   "outputs": [
    {
     "name": "stdout",
     "output_type": "stream",
     "text": [
      "C =0.5\n",
      "Accuracy:\n",
      "0.7322834645669292\n",
      "Matriz de confusión:\n",
      "[[323 316]\n",
      " [ 24 607]]\n",
      "C =1.0\n",
      "Accuracy:\n",
      "0.8291338582677166\n",
      "Matriz de confusión:\n",
      "[[535 104]\n",
      " [113 518]]\n",
      "C =1.5\n",
      "Accuracy:\n",
      "0.8259842519685039\n",
      "Matriz de confusión:\n",
      "[[548  91]\n",
      " [130 501]]\n",
      "C =2.0\n",
      "Accuracy:\n",
      "0.8141732283464567\n",
      "Matriz de confusión:\n",
      "[[560  79]\n",
      " [157 474]]\n",
      "C =2.5\n",
      "Accuracy:\n",
      "0.8086614173228347\n",
      "Matriz de confusión:\n",
      "[[567  72]\n",
      " [171 460]]\n",
      "C =3.0\n",
      "Accuracy:\n",
      "0.7929133858267716\n",
      "Matriz de confusión:\n",
      "[[571  68]\n",
      " [195 436]]\n",
      "C =3.5\n",
      "Accuracy:\n",
      "0.778740157480315\n",
      "Matriz de confusión:\n",
      "[[574  65]\n",
      " [216 415]]\n",
      "C =4.0\n",
      "Accuracy:\n",
      "0.7692913385826772\n",
      "Matriz de confusión:\n",
      "[[575  64]\n",
      " [229 402]]\n",
      "C =4.5\n",
      "Accuracy:\n",
      "0.7543307086614173\n",
      "Matriz de confusión:\n",
      "[[577  62]\n",
      " [250 381]]\n",
      "C =5.0\n",
      "Accuracy:\n",
      "0.74251968503937\n",
      "Matriz de confusión:\n",
      "[[578  61]\n",
      " [266 365]]\n",
      "C =5.5\n",
      "Accuracy:\n",
      "0.7338582677165354\n",
      "Matriz de confusión:\n",
      "[[580  59]\n",
      " [279 352]]\n",
      "C =6.0\n",
      "Accuracy:\n",
      "0.7251968503937007\n",
      "Matriz de confusión:\n",
      "[[582  57]\n",
      " [292 339]]\n",
      "C =6.5\n",
      "Accuracy:\n",
      "0.7173228346456693\n",
      "Matriz de confusión:\n",
      "[[582  57]\n",
      " [302 329]]\n",
      "C =7.0\n",
      "Accuracy:\n",
      "0.7173228346456693\n",
      "Matriz de confusión:\n",
      "[[582  57]\n",
      " [302 329]]\n",
      "C =7.5\n",
      "Accuracy:\n",
      "0.7173228346456693\n",
      "Matriz de confusión:\n",
      "[[582  57]\n",
      " [302 329]]\n",
      "C =8.0\n",
      "Accuracy:\n",
      "0.7173228346456693\n",
      "Matriz de confusión:\n",
      "[[582  57]\n",
      " [302 329]]\n",
      "C =8.5\n",
      "Accuracy:\n",
      "0.7173228346456693\n",
      "Matriz de confusión:\n",
      "[[582  57]\n",
      " [302 329]]\n",
      "C =9.0\n",
      "Accuracy:\n",
      "0.7173228346456693\n",
      "Matriz de confusión:\n",
      "[[582  57]\n",
      " [302 329]]\n",
      "C =9.5\n",
      "Accuracy:\n",
      "0.7173228346456693\n",
      "Matriz de confusión:\n",
      "[[582  57]\n",
      " [302 329]]\n",
      "C =10.0\n",
      "Accuracy:\n",
      "0.7173228346456693\n",
      "Matriz de confusión:\n",
      "[[582  57]\n",
      " [302 329]]\n"
     ]
    }
   ],
   "source": [
    "i = 0.5\n",
    "listaC = []\n",
    "listaAccuracy = []\n",
    "while i <= 10:\n",
    "\n",
    "    clfPoly = SVC(probability=True, kernel='poly', gamma='scale', C=i, decision_function_shape= 'ovo')\n",
    "\n",
    "    text_clfPoly = Pipeline([('vect', count_vect),\n",
    "                                ('tfidf', tf_transformer),\n",
    "                                ('clf', clfPoly),\n",
    "                                ])\n",
    "\n",
    "    text_clfPoly.fit(X_train, y_train)\n",
    "\n",
    "    predictions = text_clfPoly.predict(X_test)\n",
    "    listaC.append(i)\n",
    "    accuracy= accuracy_score(y_test, predictions)\n",
    "    listaAccuracy.append(accuracy)\n",
    "    print(\"C =\"+str(i))\n",
    "    print(\"Accuracy:\")\n",
    "    print(accuracy)\n",
    "    print(\"Matriz de confusión:\")\n",
    "    print(confusion_matrix(y_test, predictions))\n",
    "    i=i+0.5"
   ]
  },
  {
   "cell_type": "markdown",
   "metadata": {},
   "source": [
    "En este gráfico se aprecia la evolución del accuracy según los valores de C."
   ]
  },
  {
   "cell_type": "code",
   "execution_count": 53,
   "metadata": {},
   "outputs": [
    {
     "data": {
      "text/plain": [
       "[<matplotlib.lines.Line2D at 0x1a1d1cdd68>]"
      ]
     },
     "execution_count": 53,
     "metadata": {},
     "output_type": "execute_result"
    },
    {
     "data": {
      "image/png": "[encoded data removed]",
      "text/plain": [
       "<Figure size 432x288 with 1 Axes>"
      ]
     },
     "metadata": {
      "needs_background": "light"
     },
     "output_type": "display_data"
    }
   ],
   "source": [
    "plt.ylabel('Accuracy')\n",
    "plt.xlabel('C')\n",
    "plt.plot(listaC, listaAccuracy)"
   ]
  },
  {
   "cell_type": "markdown",
   "metadata": {},
   "source": [
    "#### Kernel='RBF', Gamma=Scale y OVO"
   ]
  },
  {
   "cell_type": "markdown",
   "metadata": {},
   "source": [
    "Se generan los diferentes valores de accuracy y matrices de confusión."
   ]
  },
  {
   "cell_type": "code",
   "execution_count": 54,
   "metadata": {},
   "outputs": [
    {
     "name": "stdout",
     "output_type": "stream",
     "text": [
      "C =0.5\n",
      "Accuracy:\n",
      "0.8188976377952756\n",
      "Matriz de confusión:\n",
      "[[497 142]\n",
      " [ 88 543]]\n",
      "C =1.0\n",
      "Accuracy:\n",
      "0.8401574803149606\n",
      "Matriz de confusión:\n",
      "[[533 106]\n",
      " [ 97 534]]\n",
      "C =1.5\n",
      "Accuracy:\n",
      "0.8472440944881889\n",
      "Matriz de confusión:\n",
      "[[543  96]\n",
      " [ 98 533]]\n",
      "C =2.0\n",
      "Accuracy:\n",
      "0.8503937007874016\n",
      "Matriz de confusión:\n",
      "[[546  93]\n",
      " [ 97 534]]\n",
      "C =2.5\n",
      "Accuracy:\n",
      "0.8519685039370078\n",
      "Matriz de confusión:\n",
      "[[548  91]\n",
      " [ 97 534]]\n",
      "C =3.0\n",
      "Accuracy:\n",
      "0.852755905511811\n",
      "Matriz de confusión:\n",
      "[[549  90]\n",
      " [ 97 534]]\n",
      "C =3.5\n",
      "Accuracy:\n",
      "0.8519685039370078\n",
      "Matriz de confusión:\n",
      "[[549  90]\n",
      " [ 98 533]]\n",
      "C =4.0\n",
      "Accuracy:\n",
      "0.852755905511811\n",
      "Matriz de confusión:\n",
      "[[549  90]\n",
      " [ 97 534]]\n",
      "C =4.5\n",
      "Accuracy:\n",
      "0.852755905511811\n",
      "Matriz de confusión:\n",
      "[[549  90]\n",
      " [ 97 534]]\n",
      "C =5.0\n",
      "Accuracy:\n",
      "0.8519685039370078\n",
      "Matriz de confusión:\n",
      "[[548  91]\n",
      " [ 97 534]]\n",
      "C =5.5\n",
      "Accuracy:\n",
      "0.8543307086614174\n",
      "Matriz de confusión:\n",
      "[[549  90]\n",
      " [ 95 536]]\n",
      "C =6.0\n",
      "Accuracy:\n",
      "0.8551181102362204\n",
      "Matriz de confusión:\n",
      "[[549  90]\n",
      " [ 94 537]]\n",
      "C =6.5\n",
      "Accuracy:\n",
      "0.8551181102362204\n",
      "Matriz de confusión:\n",
      "[[550  89]\n",
      " [ 95 536]]\n",
      "C =7.0\n",
      "Accuracy:\n",
      "0.8551181102362204\n",
      "Matriz de confusión:\n",
      "[[550  89]\n",
      " [ 95 536]]\n",
      "C =7.5\n",
      "Accuracy:\n",
      "0.8551181102362204\n",
      "Matriz de confusión:\n",
      "[[550  89]\n",
      " [ 95 536]]\n",
      "C =8.0\n",
      "Accuracy:\n",
      "0.8551181102362204\n",
      "Matriz de confusión:\n",
      "[[550  89]\n",
      " [ 95 536]]\n",
      "C =8.5\n",
      "Accuracy:\n",
      "0.8551181102362204\n",
      "Matriz de confusión:\n",
      "[[550  89]\n",
      " [ 95 536]]\n",
      "C =9.0\n",
      "Accuracy:\n",
      "0.8551181102362204\n",
      "Matriz de confusión:\n",
      "[[550  89]\n",
      " [ 95 536]]\n",
      "C =9.5\n",
      "Accuracy:\n",
      "0.8551181102362204\n",
      "Matriz de confusión:\n",
      "[[550  89]\n",
      " [ 95 536]]\n",
      "C =10.0\n",
      "Accuracy:\n",
      "0.8551181102362204\n",
      "Matriz de confusión:\n",
      "[[550  89]\n",
      " [ 95 536]]\n"
     ]
    }
   ],
   "source": [
    "i = 0.5\n",
    "listaC = []\n",
    "listaAccuracy = []\n",
    "while i <= 10:\n",
    "\n",
    "    clfPoly = SVC(probability=True, kernel='rbf', gamma='scale', C=i, decision_function_shape= 'ovo')\n",
    "\n",
    "    text_clfPoly = Pipeline([('vect', count_vect),\n",
    "                                ('tfidf', tf_transformer),\n",
    "                                ('clf', clfPoly),\n",
    "                                ])\n",
    "\n",
    "    text_clfPoly.fit(X_train, y_train)\n",
    "\n",
    "    predictions = text_clfPoly.predict(X_test)\n",
    "    listaC.append(i)\n",
    "    accuracy= accuracy_score(y_test, predictions)\n",
    "    listaAccuracy.append(accuracy)\n",
    "    print(\"C =\"+str(i))\n",
    "    print(\"Accuracy:\")\n",
    "    print(accuracy)\n",
    "    print(\"Matriz de confusión:\")\n",
    "    print(confusion_matrix(y_test, predictions))\n",
    "    i=i+0.5"
   ]
  },
  {
   "cell_type": "markdown",
   "metadata": {},
   "source": [
    "En este gráfico se aprecia la evolución del accuracy según los valores de C."
   ]
  },
  {
   "cell_type": "code",
   "execution_count": 55,
   "metadata": {},
   "outputs": [
    {
     "data": {
      "text/plain": [
       "[<matplotlib.lines.Line2D at 0x1a1b7d4b00>]"
      ]
     },
     "execution_count": 55,
     "metadata": {},
     "output_type": "execute_result"
    },
    {
     "data": {
      "image/png": "[encoded data removed]",
      "text/plain": [
       "<Figure size 432x288 with 1 Axes>"
      ]
     },
     "metadata": {
      "needs_background": "light"
     },
     "output_type": "display_data"
    }
   ],
   "source": [
    "plt.ylabel('Accuracy')\n",
    "plt.xlabel('C')\n",
    "plt.plot(listaC, listaAccuracy)"
   ]
  },
  {
   "cell_type": "markdown",
   "metadata": {},
   "source": [
    "#### Kernel='RBF', Gamma=Scale y OVR"
   ]
  },
  {
   "cell_type": "markdown",
   "metadata": {},
   "source": [
    "Se generan los diferentes valores de accuracy y matrices de confusión."
   ]
  },
  {
   "cell_type": "code",
   "execution_count": 57,
   "metadata": {},
   "outputs": [
    {
     "name": "stdout",
     "output_type": "stream",
     "text": [
      "C =0.5\n",
      "Accuracy:\n",
      "0.8188976377952756\n",
      "Matriz de confusión:\n",
      "[[497 142]\n",
      " [ 88 543]]\n",
      "C =1.0\n",
      "Accuracy:\n",
      "0.8401574803149606\n",
      "Matriz de confusión:\n",
      "[[533 106]\n",
      " [ 97 534]]\n",
      "C =1.5\n",
      "Accuracy:\n",
      "0.8472440944881889\n",
      "Matriz de confusión:\n",
      "[[543  96]\n",
      " [ 98 533]]\n",
      "C =2.0\n",
      "Accuracy:\n",
      "0.8503937007874016\n",
      "Matriz de confusión:\n",
      "[[546  93]\n",
      " [ 97 534]]\n",
      "C =2.5\n",
      "Accuracy:\n",
      "0.8519685039370078\n",
      "Matriz de confusión:\n",
      "[[548  91]\n",
      " [ 97 534]]\n",
      "C =3.0\n",
      "Accuracy:\n",
      "0.852755905511811\n",
      "Matriz de confusión:\n",
      "[[549  90]\n",
      " [ 97 534]]\n",
      "C =3.5\n",
      "Accuracy:\n",
      "0.8519685039370078\n",
      "Matriz de confusión:\n",
      "[[549  90]\n",
      " [ 98 533]]\n",
      "C =4.0\n",
      "Accuracy:\n",
      "0.852755905511811\n",
      "Matriz de confusión:\n",
      "[[549  90]\n",
      " [ 97 534]]\n",
      "C =4.5\n",
      "Accuracy:\n",
      "0.852755905511811\n",
      "Matriz de confusión:\n",
      "[[549  90]\n",
      " [ 97 534]]\n",
      "C =5.0\n",
      "Accuracy:\n",
      "0.8519685039370078\n",
      "Matriz de confusión:\n",
      "[[548  91]\n",
      " [ 97 534]]\n",
      "C =5.5\n",
      "Accuracy:\n",
      "0.8543307086614174\n",
      "Matriz de confusión:\n",
      "[[549  90]\n",
      " [ 95 536]]\n",
      "C =6.0\n",
      "Accuracy:\n",
      "0.8551181102362204\n",
      "Matriz de confusión:\n",
      "[[549  90]\n",
      " [ 94 537]]\n",
      "C =6.5\n",
      "Accuracy:\n",
      "0.8551181102362204\n",
      "Matriz de confusión:\n",
      "[[550  89]\n",
      " [ 95 536]]\n",
      "C =7.0\n",
      "Accuracy:\n",
      "0.8551181102362204\n",
      "Matriz de confusión:\n",
      "[[550  89]\n",
      " [ 95 536]]\n",
      "C =7.5\n",
      "Accuracy:\n",
      "0.8551181102362204\n",
      "Matriz de confusión:\n",
      "[[550  89]\n",
      " [ 95 536]]\n",
      "C =8.0\n",
      "Accuracy:\n",
      "0.8551181102362204\n",
      "Matriz de confusión:\n",
      "[[550  89]\n",
      " [ 95 536]]\n",
      "C =8.5\n",
      "Accuracy:\n",
      "0.8551181102362204\n",
      "Matriz de confusión:\n",
      "[[550  89]\n",
      " [ 95 536]]\n",
      "C =9.0\n",
      "Accuracy:\n",
      "0.8551181102362204\n",
      "Matriz de confusión:\n",
      "[[550  89]\n",
      " [ 95 536]]\n",
      "C =9.5\n",
      "Accuracy:\n",
      "0.8551181102362204\n",
      "Matriz de confusión:\n",
      "[[550  89]\n",
      " [ 95 536]]\n",
      "C =10.0\n",
      "Accuracy:\n",
      "0.8551181102362204\n",
      "Matriz de confusión:\n",
      "[[550  89]\n",
      " [ 95 536]]\n"
     ]
    }
   ],
   "source": [
    "i = 0.5\n",
    "listaC = []\n",
    "listaAccuracy = []\n",
    "while i <= 10:\n",
    "\n",
    "    clfPoly = SVC(probability=True, kernel='rbf', gamma='scale', C=i, decision_function_shape= 'ovr')\n",
    "\n",
    "    text_clfPoly = Pipeline([('vect', count_vect),\n",
    "                                ('tfidf', tf_transformer),\n",
    "                                ('clf', clfPoly),\n",
    "                                ])\n",
    "\n",
    "    text_clfPoly.fit(X_train, y_train)\n",
    "\n",
    "    predictions = text_clfPoly.predict(X_test)\n",
    "    listaC.append(i)\n",
    "    accuracy= accuracy_score(y_test, predictions)\n",
    "    listaAccuracy.append(accuracy)\n",
    "    print(\"C =\"+str(i))\n",
    "    print(\"Accuracy:\")\n",
    "    print(accuracy)\n",
    "    print(\"Matriz de confusión:\")\n",
    "    print(confusion_matrix(y_test, predictions))\n",
    "    i=i+0.5"
   ]
  },
  {
   "cell_type": "markdown",
   "metadata": {},
   "source": [
    "En este gráfico se aprecia la evolución del accuracy según los valores de C."
   ]
  },
  {
   "cell_type": "code",
   "execution_count": 58,
   "metadata": {},
   "outputs": [
    {
     "data": {
      "text/plain": [
       "[<matplotlib.lines.Line2D at 0x1a1f27f6a0>]"
      ]
     },
     "execution_count": 58,
     "metadata": {},
     "output_type": "execute_result"
    },
    {
     "data": {
      "image/png": "[encoded data removed]",
      "text/plain": [
       "<Figure size 432x288 with 1 Axes>"
      ]
     },
     "metadata": {
      "needs_background": "light"
     },
     "output_type": "display_data"
    }
   ],
   "source": [
    "plt.ylabel('Accuracy')\n",
    "plt.xlabel('C')\n",
    "plt.plot(listaC, listaAccuracy)"
   ]
  },
  {
   "cell_type": "markdown",
   "metadata": {},
   "source": [
    "### Mejor resultado"
   ]
  },
  {
   "cell_type": "markdown",
   "metadata": {},
   "source": [
    "El mejor resultado es de **Kernel= RBF, Gamma=Scale C= 6.0 y OVR**, se escoge el C de **6.0** al ser menor que otros valores de C que obtuvieron el mismo resultado, donde se obtiene una efectividad de predicción del **85.51%**, el cual tiene es la mayor consultada."
   ]
  },
  {
   "cell_type": "markdown",
   "metadata": {},
   "source": [
    "Y por medio de la matriz de confusión para dicho clasificador se muestra que con la etiqueta 0 - de Ariana Grande- acertó 549 veces pero falló en 90, y con la etiqueta 1 - de Gary Linkener - acertó 537 veces pero falló 94 veces."
   ]
  },
  {
   "cell_type": "code",
   "execution_count": null,
   "metadata": {},
   "outputs": [],
   "source": [
    "[[549  90]\n",
    " [ 94 537]]"
   ]
  },
  {
   "cell_type": "markdown",
   "metadata": {},
   "source": [
    "## Análisis de sentimientos usando VADER"
   ]
  },
  {
   "cell_type": "markdown",
   "metadata": {},
   "source": [
    "Se hace un análisis de sentimientos por medio de la librería VADER, el cual analiza individualmente cada sentencia, con su indice de positividad, negatividad, neutralidad y en un indíce llamado 'compound' que sumariza todos los sentimientos en la escala siguiente:\n",
    "\n",
    "**Positivo:** >= 0.05\n",
    "\n",
    "**Neutral:** > -0.05 y < 0.05\n",
    "\n",
    "**Negativo:** <= -0.05\n",
    "\n",
    "Se inicializa la función por medio del SentimentIntensityAnalyzer()."
   ]
  },
  {
   "cell_type": "code",
   "execution_count": 158,
   "metadata": {},
   "outputs": [],
   "source": [
    "from vaderSentiment.vaderSentiment import SentimentIntensityAnalyzer\n",
    "analyser = SentimentIntensityAnalyzer()"
   ]
  },
  {
   "cell_type": "markdown",
   "metadata": {},
   "source": [
    "Por medio de la siguiente función se genera un promedio de los scores de cada corpus."
   ]
  },
  {
   "cell_type": "code",
   "execution_count": 163,
   "metadata": {},
   "outputs": [],
   "source": [
    "def getScores(corpus):\n",
    "    count = 0\n",
    "    neg = 0\n",
    "    neu = 0\n",
    "    pos = 0\n",
    "    compound = 0\n",
    "    for sentence in np.nditer(corpus):\n",
    "        score = analyser.polarity_scores(str(sentence))\n",
    "        neg = neg + score[\"neg\"]\n",
    "        neu = neu + score[\"neu\"]\n",
    "        pos = pos + score[\"pos\"]\n",
    "        compound = compound + score[\"compound\"]\n",
    "        count=count+1\n",
    "    return {'neg': neg/count, 'neu': neu/count, 'pos': pos/count, 'compound': compound/count}"
   ]
  },
  {
   "cell_type": "markdown",
   "metadata": {},
   "source": [
    "Se hace un análisis de todos los tweets de cada twitero consultado: \n",
    "\n",
    "### Joe Biden:\n",
    "\n",
    "***Negativo:*** 0.06. ***Neutral:***  0.78. ***Positivo:***  0.13. ***Compound:***  **0.13**. \n",
    "\n",
    "El índice compound, al ser mayor que 0.05, indica que tiene un sentimiento **positivo**."
   ]
  },
  {
   "cell_type": "code",
   "execution_count": 165,
   "metadata": {},
   "outputs": [
    {
     "name": "stdout",
     "output_type": "stream",
     "text": [
      "{'neg': 0.06604315789473689, 'neu': 0.7844884210526326, 'pos': 0.1343775438596491, 'compound': 0.13379561403508738}\n"
     ]
    }
   ],
   "source": [
    "print(getScores(corpus[corpus[:,1] == '1'][:,np.array([True, False])]))"
   ]
  },
  {
   "cell_type": "markdown",
   "metadata": {},
   "source": [
    "### Bernie Sanders:\n",
    "\n",
    "***Negativo:*** 0.09. ***Neutral:***  0.77. ***Positivo:***  0.12. ***Compound:***  **0.02**. \n",
    "\n",
    "El índice compound, al ser menor que 0.05 y mayor que -0.05, indica que tiene un sentimiento **neutral**."
   ]
  },
  {
   "cell_type": "code",
   "execution_count": 166,
   "metadata": {},
   "outputs": [
    {
     "name": "stdout",
     "output_type": "stream",
     "text": [
      "{'neg': 0.09863466666666669, 'neu': 0.7703964444444443, 'pos': 0.12118355555555564, 'compound': 0.02427119999999998}\n"
     ]
    }
   ],
   "source": [
    "print(getScores(corpus[corpus[:,1] == '0'][:,np.array([True, False])]))"
   ]
  },
  {
   "cell_type": "markdown",
   "metadata": {},
   "source": [
    "### Gary Lineker:\n",
    "\n",
    "***Negativo:*** 0.07. ***Neutral:***  0.72. ***Positivo:***  0.19. ***Compound:***  **0.16**. \n",
    "\n",
    "El índice compound, al ser mayor que 0.05, indica que tiene un sentimiento **positivo**."
   ]
  },
  {
   "cell_type": "code",
   "execution_count": 167,
   "metadata": {},
   "outputs": [
    {
     "name": "stdout",
     "output_type": "stream",
     "text": [
      "{'neg': 0.07483594470046087, 'neu': 0.7260930875576038, 'pos': 0.19907235023041442, 'compound': 0.1653487557603688}\n"
     ]
    }
   ],
   "source": [
    "print(getScores(corpus2[corpus2[:,1] == '1'][:,np.array([True, False])]))"
   ]
  },
  {
   "cell_type": "markdown",
   "metadata": {},
   "source": [
    "### Ariana Grande\n",
    "\n",
    "***Negativo:*** 0.05. ***Neutral:***  0.69. ***Positivo:***  0.23. ***Compound:***  **0.22**. \n",
    "\n",
    "El índice compound, al ser mayor que 0.05, indica que tiene un sentimiento **positivo**."
   ]
  },
  {
   "cell_type": "code",
   "execution_count": 168,
   "metadata": {},
   "outputs": [
    {
     "name": "stdout",
     "output_type": "stream",
     "text": [
      "{'neg': 0.05212660098522166, 'neu': 0.6938384236453197, 'pos': 0.23728719211822655, 'compound': 0.22689881773399104}\n"
     ]
    }
   ],
   "source": [
    "print(getScores(corpus2[corpus2[:,1] == '0'][:,np.array([True, False])]))"
   ]
  },
  {
   "cell_type": "markdown",
   "metadata": {},
   "source": [
    "## Conclusiones"
   ]
  },
  {
   "cell_type": "markdown",
   "metadata": {},
   "source": [
    "- Los dos análisis, aunque uno era de personajes casi iguales y otro de personajes diferentes; presentaron resultados muy parecidos.\n",
    "\n",
    "- Los tweets en general, cuentan con gran variedad de aspectos, por esto para efectos de análisis es mejor normalizar el corpus.\n",
    "\n",
    "- Con respecto al análisis de sentimientos, la mayoría son positivos, con clara tendencia a ser neutrales.\n",
    "\n",
    "- El tipo de clasificador RBF mostró los mejores resultados para ambas comparaciones."
   ]
  },
  {
   "cell_type": "code",
   "execution_count": null,
   "metadata": {},
   "outputs": [],
   "source": []
  }
 ],
 "metadata": {
  "kernelspec": {
   "display_name": "Python 3",
   "language": "python",
   "name": "python3"
  },
  "language_info": {
   "codemirror_mode": {
    "name": "ipython",
    "version": 3
   },
   "file_extension": ".py",
   "mimetype": "text/x-python",
   "name": "python",
   "nbconvert_exporter": "python",
   "pygments_lexer": "ipython3",
   "version": "3.7.3"
  }
 },
 "nbformat": 4,
 "nbformat_minor": 2
}
